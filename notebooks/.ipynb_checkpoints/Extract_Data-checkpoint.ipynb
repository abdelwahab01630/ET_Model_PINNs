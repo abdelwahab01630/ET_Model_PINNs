{
 "cells": [
  {
   "cell_type": "code",
   "execution_count": 37,
   "id": "0381f1ea-625c-484e-99b8-c911714b49f0",
   "metadata": {},
   "outputs": [],
   "source": [
    "import scipy.io\n",
    "mat = scipy.io.loadmat('Data_D_5_K0_10.mat')\n",
    "\n",
    "Cfc = mat[\"Cfc\"]\n",
    "Cfcp = mat[\"Cfcp\"]\n",
    "Z_set = mat[\"Z_set\"][0]\n",
    "T_span = mat[\"T_span\"][0]\n",
    "G = mat[\"G\"][0]\n",
    "pot = mat[\"pot\"][0]\n",
    "K0 = mat[\"K0\"][0,0]\n",
    "D = mat[\"D\"][0,0]"
   ]
  }
 ],
 "metadata": {
  "kernelspec": {
   "display_name": "Python 3 (ipykernel)",
   "language": "python",
   "name": "python3"
  },
  "language_info": {
   "codemirror_mode": {
    "name": "ipython",
    "version": 3
   },
   "file_extension": ".py",
   "mimetype": "text/x-python",
   "name": "python",
   "nbconvert_exporter": "python",
   "pygments_lexer": "ipython3",
   "version": "3.9.7"
  }
 },
 "nbformat": 4,
 "nbformat_minor": 5
}
